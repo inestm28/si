{
 "cells": [
  {
   "cell_type": "markdown",
   "id": "b81c0500",
   "metadata": {},
   "source": [
    "# Sistemas Inteligentes para Bioinformática"
   ]
  },
  {
   "cell_type": "markdown",
   "id": "0332d971",
   "metadata": {},
   "source": [
    "Exemplos de validação de código. Deverá corrigir os imports e diretórios de acordo com a sua implementação."
   ]
  },
  {
   "cell_type": "code",
   "execution_count": 1,
   "id": "d7a5bba2",
   "metadata": {},
   "outputs": [],
   "source": [
    "from si.data import Dataset, summary\n",
    "import os"
   ]
  },
  {
   "cell_type": "code",
   "execution_count": 2,
   "id": "4df58c0c",
   "metadata": {},
   "outputs": [],
   "source": [
    "DIR = os.path.dirname(os.path.realpath('.'))\n",
    "filename = os.path.join(DIR, 'datasets/breast-bin.data')"
   ]
  },
  {
   "cell_type": "markdown",
   "id": "410820e3",
   "metadata": {},
   "source": [
    "## Labeled dataset"
   ]
  },
  {
   "cell_type": "code",
   "execution_count": 3,
   "id": "bf1b9bb6",
   "metadata": {},
   "outputs": [],
   "source": [
    "dataset = Dataset.from_data(filename, labeled=True)"
   ]
  },
  {
   "cell_type": "code",
   "execution_count": 4,
   "id": "09fb7585",
   "metadata": {},
   "outputs": [
    {
     "data": {
      "text/plain": "array([[8., 4., 4., 1., 2., 9., 3., 3., 1.],\n       [5., 1., 1., 3., 2., 1., 1., 1., 1.],\n       [2., 1., 1., 1., 3., 1., 2., 1., 1.],\n       [2., 1., 1., 1., 2., 1., 3., 1., 1.],\n       [9., 5., 8., 1., 2., 3., 2., 1., 5.]])"
     },
     "execution_count": 4,
     "metadata": {},
     "output_type": "execute_result"
    }
   ],
   "source": [
    "dataset.X[:5, :]"
   ]
  },
  {
   "cell_type": "code",
   "execution_count": 5,
   "id": "593bebab",
   "metadata": {},
   "outputs": [
    {
     "data": {
      "text/plain": "array([1., 0., 0., 0., 1.])"
     },
     "execution_count": 5,
     "metadata": {},
     "output_type": "execute_result"
    }
   ],
   "source": [
    "dataset.y[:5]"
   ]
  },
  {
   "cell_type": "code",
   "execution_count": 6,
   "id": "b3420783",
   "metadata": {},
   "outputs": [
    {
     "name": "stdout",
     "output_type": "stream",
     "text": [
      "Has label: True\n",
      "Number of features: 9\n",
      "Number of classes: 2\n"
     ]
    },
    {
     "data": {
      "text/plain": "              A          B          C          D          E          F  \\\nmean   4.417740   3.134478   3.207439   2.806867   3.216023   3.486409   \nvar    7.917053   9.298082   8.819630   8.141527   4.896110  13.099601   \nmin    1.000000   1.000000   1.000000   1.000000   1.000000   1.000000   \nmax   10.000000  10.000000  10.000000  10.000000  10.000000  10.000000   \n\n              G          H          I         y  \nmean   3.437768   2.866953   1.589413  0.344778  \nvar    5.937114   9.311340   2.937284  0.225906  \nmin    1.000000   1.000000   1.000000  0.000000  \nmax   10.000000  10.000000  10.000000  1.000000  ",
      "text/html": "<div>\n<style scoped>\n    .dataframe tbody tr th:only-of-type {\n        vertical-align: middle;\n    }\n\n    .dataframe tbody tr th {\n        vertical-align: top;\n    }\n\n    .dataframe thead th {\n        text-align: right;\n    }\n</style>\n<table border=\"1\" class=\"dataframe\">\n  <thead>\n    <tr style=\"text-align: right;\">\n      <th></th>\n      <th>A</th>\n      <th>B</th>\n      <th>C</th>\n      <th>D</th>\n      <th>E</th>\n      <th>F</th>\n      <th>G</th>\n      <th>H</th>\n      <th>I</th>\n      <th>y</th>\n    </tr>\n  </thead>\n  <tbody>\n    <tr>\n      <th>mean</th>\n      <td>4.417740</td>\n      <td>3.134478</td>\n      <td>3.207439</td>\n      <td>2.806867</td>\n      <td>3.216023</td>\n      <td>3.486409</td>\n      <td>3.437768</td>\n      <td>2.866953</td>\n      <td>1.589413</td>\n      <td>0.344778</td>\n    </tr>\n    <tr>\n      <th>var</th>\n      <td>7.917053</td>\n      <td>9.298082</td>\n      <td>8.819630</td>\n      <td>8.141527</td>\n      <td>4.896110</td>\n      <td>13.099601</td>\n      <td>5.937114</td>\n      <td>9.311340</td>\n      <td>2.937284</td>\n      <td>0.225906</td>\n    </tr>\n    <tr>\n      <th>min</th>\n      <td>1.000000</td>\n      <td>1.000000</td>\n      <td>1.000000</td>\n      <td>1.000000</td>\n      <td>1.000000</td>\n      <td>1.000000</td>\n      <td>1.000000</td>\n      <td>1.000000</td>\n      <td>1.000000</td>\n      <td>0.000000</td>\n    </tr>\n    <tr>\n      <th>max</th>\n      <td>10.000000</td>\n      <td>10.000000</td>\n      <td>10.000000</td>\n      <td>10.000000</td>\n      <td>10.000000</td>\n      <td>10.000000</td>\n      <td>10.000000</td>\n      <td>10.000000</td>\n      <td>10.000000</td>\n      <td>1.000000</td>\n    </tr>\n  </tbody>\n</table>\n</div>"
     },
     "execution_count": 6,
     "metadata": {},
     "output_type": "execute_result"
    }
   ],
   "source": [
    "print(\"Has label:\", dataset.hasLabel())\n",
    "print(\"Number of features:\", dataset.getNumFeatures())\n",
    "print(\"Number of classes:\", dataset.getNumClasses())\n",
    "summary(dataset)"
   ]
  },
  {
   "cell_type": "code",
   "execution_count": 7,
   "id": "a3035f51",
   "metadata": {},
   "outputs": [
    {
     "data": {
      "text/plain": "       A    B    C    D    E     F    G    H    I    y\n0    8.0  4.0  4.0  1.0  2.0   9.0  3.0  3.0  1.0  1.0\n1    5.0  1.0  1.0  3.0  2.0   1.0  1.0  1.0  1.0  0.0\n2    2.0  1.0  1.0  1.0  3.0   1.0  2.0  1.0  1.0  0.0\n3    2.0  1.0  1.0  1.0  2.0   1.0  3.0  1.0  1.0  0.0\n4    9.0  5.0  8.0  1.0  2.0   3.0  2.0  1.0  5.0  1.0\n..   ...  ...  ...  ...  ...   ...  ...  ...  ...  ...\n694  1.0  1.0  1.0  1.0  4.0   3.0  1.0  1.0  1.0  0.0\n695  5.0  3.0  1.0  2.0  2.0   1.0  2.0  1.0  1.0  0.0\n696  5.0  2.0  2.0  2.0  2.0   1.0  1.0  1.0  2.0  0.0\n697  2.0  3.0  2.0  2.0  2.0   2.0  3.0  1.0  1.0  0.0\n698  7.0  6.0  6.0  3.0  2.0  10.0  7.0  1.0  1.0  1.0\n\n[699 rows x 10 columns]",
      "text/html": "<div>\n<style scoped>\n    .dataframe tbody tr th:only-of-type {\n        vertical-align: middle;\n    }\n\n    .dataframe tbody tr th {\n        vertical-align: top;\n    }\n\n    .dataframe thead th {\n        text-align: right;\n    }\n</style>\n<table border=\"1\" class=\"dataframe\">\n  <thead>\n    <tr style=\"text-align: right;\">\n      <th></th>\n      <th>A</th>\n      <th>B</th>\n      <th>C</th>\n      <th>D</th>\n      <th>E</th>\n      <th>F</th>\n      <th>G</th>\n      <th>H</th>\n      <th>I</th>\n      <th>y</th>\n    </tr>\n  </thead>\n  <tbody>\n    <tr>\n      <th>0</th>\n      <td>8.0</td>\n      <td>4.0</td>\n      <td>4.0</td>\n      <td>1.0</td>\n      <td>2.0</td>\n      <td>9.0</td>\n      <td>3.0</td>\n      <td>3.0</td>\n      <td>1.0</td>\n      <td>1.0</td>\n    </tr>\n    <tr>\n      <th>1</th>\n      <td>5.0</td>\n      <td>1.0</td>\n      <td>1.0</td>\n      <td>3.0</td>\n      <td>2.0</td>\n      <td>1.0</td>\n      <td>1.0</td>\n      <td>1.0</td>\n      <td>1.0</td>\n      <td>0.0</td>\n    </tr>\n    <tr>\n      <th>2</th>\n      <td>2.0</td>\n      <td>1.0</td>\n      <td>1.0</td>\n      <td>1.0</td>\n      <td>3.0</td>\n      <td>1.0</td>\n      <td>2.0</td>\n      <td>1.0</td>\n      <td>1.0</td>\n      <td>0.0</td>\n    </tr>\n    <tr>\n      <th>3</th>\n      <td>2.0</td>\n      <td>1.0</td>\n      <td>1.0</td>\n      <td>1.0</td>\n      <td>2.0</td>\n      <td>1.0</td>\n      <td>3.0</td>\n      <td>1.0</td>\n      <td>1.0</td>\n      <td>0.0</td>\n    </tr>\n    <tr>\n      <th>4</th>\n      <td>9.0</td>\n      <td>5.0</td>\n      <td>8.0</td>\n      <td>1.0</td>\n      <td>2.0</td>\n      <td>3.0</td>\n      <td>2.0</td>\n      <td>1.0</td>\n      <td>5.0</td>\n      <td>1.0</td>\n    </tr>\n    <tr>\n      <th>...</th>\n      <td>...</td>\n      <td>...</td>\n      <td>...</td>\n      <td>...</td>\n      <td>...</td>\n      <td>...</td>\n      <td>...</td>\n      <td>...</td>\n      <td>...</td>\n      <td>...</td>\n    </tr>\n    <tr>\n      <th>694</th>\n      <td>1.0</td>\n      <td>1.0</td>\n      <td>1.0</td>\n      <td>1.0</td>\n      <td>4.0</td>\n      <td>3.0</td>\n      <td>1.0</td>\n      <td>1.0</td>\n      <td>1.0</td>\n      <td>0.0</td>\n    </tr>\n    <tr>\n      <th>695</th>\n      <td>5.0</td>\n      <td>3.0</td>\n      <td>1.0</td>\n      <td>2.0</td>\n      <td>2.0</td>\n      <td>1.0</td>\n      <td>2.0</td>\n      <td>1.0</td>\n      <td>1.0</td>\n      <td>0.0</td>\n    </tr>\n    <tr>\n      <th>696</th>\n      <td>5.0</td>\n      <td>2.0</td>\n      <td>2.0</td>\n      <td>2.0</td>\n      <td>2.0</td>\n      <td>1.0</td>\n      <td>1.0</td>\n      <td>1.0</td>\n      <td>2.0</td>\n      <td>0.0</td>\n    </tr>\n    <tr>\n      <th>697</th>\n      <td>2.0</td>\n      <td>3.0</td>\n      <td>2.0</td>\n      <td>2.0</td>\n      <td>2.0</td>\n      <td>2.0</td>\n      <td>3.0</td>\n      <td>1.0</td>\n      <td>1.0</td>\n      <td>0.0</td>\n    </tr>\n    <tr>\n      <th>698</th>\n      <td>7.0</td>\n      <td>6.0</td>\n      <td>6.0</td>\n      <td>3.0</td>\n      <td>2.0</td>\n      <td>10.0</td>\n      <td>7.0</td>\n      <td>1.0</td>\n      <td>1.0</td>\n      <td>1.0</td>\n    </tr>\n  </tbody>\n</table>\n<p>699 rows × 10 columns</p>\n</div>"
     },
     "execution_count": 7,
     "metadata": {},
     "output_type": "execute_result"
    }
   ],
   "source": [
    "dataset.toDataframe()"
   ]
  },
  {
   "cell_type": "markdown",
   "id": "687d166e",
   "metadata": {},
   "source": [
    "## Standard Scaler"
   ]
  },
  {
   "cell_type": "code",
   "execution_count": 8,
   "id": "57b53dc3",
   "metadata": {},
   "outputs": [
    {
     "data": {
      "text/plain": "                 A             B             C             D             E  \\\nmean -3.811925e-17 -1.219816e-16 -6.607336e-17  9.148619e-17  6.607336e-17   \nvar   1.000000e+00  1.000000e+00  1.000000e+00  1.000000e+00  1.000000e+00   \nmin  -1.214667e+00 -6.999951e-01 -7.432990e-01 -6.332472e-01 -1.001495e+00   \nmax   1.983939e+00  2.251526e+00  2.287222e+00  2.520955e+00  3.065906e+00   \n\n                 F             G             H             I         y  \nmean -5.082566e-17  5.082566e-18 -8.386234e-17 -5.717887e-17  0.344778  \nvar   1.000000e+00  1.000000e+00  1.000000e+00  1.000000e+00  0.225906  \nmin  -6.869792e-01 -1.000471e+00 -6.118250e-01 -3.439118e-01  0.000000  \nmax   1.799664e+00  2.693171e+00  2.337594e+00  4.907421e+00  1.000000  ",
      "text/html": "<div>\n<style scoped>\n    .dataframe tbody tr th:only-of-type {\n        vertical-align: middle;\n    }\n\n    .dataframe tbody tr th {\n        vertical-align: top;\n    }\n\n    .dataframe thead th {\n        text-align: right;\n    }\n</style>\n<table border=\"1\" class=\"dataframe\">\n  <thead>\n    <tr style=\"text-align: right;\">\n      <th></th>\n      <th>A</th>\n      <th>B</th>\n      <th>C</th>\n      <th>D</th>\n      <th>E</th>\n      <th>F</th>\n      <th>G</th>\n      <th>H</th>\n      <th>I</th>\n      <th>y</th>\n    </tr>\n  </thead>\n  <tbody>\n    <tr>\n      <th>mean</th>\n      <td>-3.811925e-17</td>\n      <td>-1.219816e-16</td>\n      <td>-6.607336e-17</td>\n      <td>9.148619e-17</td>\n      <td>6.607336e-17</td>\n      <td>-5.082566e-17</td>\n      <td>5.082566e-18</td>\n      <td>-8.386234e-17</td>\n      <td>-5.717887e-17</td>\n      <td>0.344778</td>\n    </tr>\n    <tr>\n      <th>var</th>\n      <td>1.000000e+00</td>\n      <td>1.000000e+00</td>\n      <td>1.000000e+00</td>\n      <td>1.000000e+00</td>\n      <td>1.000000e+00</td>\n      <td>1.000000e+00</td>\n      <td>1.000000e+00</td>\n      <td>1.000000e+00</td>\n      <td>1.000000e+00</td>\n      <td>0.225906</td>\n    </tr>\n    <tr>\n      <th>min</th>\n      <td>-1.214667e+00</td>\n      <td>-6.999951e-01</td>\n      <td>-7.432990e-01</td>\n      <td>-6.332472e-01</td>\n      <td>-1.001495e+00</td>\n      <td>-6.869792e-01</td>\n      <td>-1.000471e+00</td>\n      <td>-6.118250e-01</td>\n      <td>-3.439118e-01</td>\n      <td>0.000000</td>\n    </tr>\n    <tr>\n      <th>max</th>\n      <td>1.983939e+00</td>\n      <td>2.251526e+00</td>\n      <td>2.287222e+00</td>\n      <td>2.520955e+00</td>\n      <td>3.065906e+00</td>\n      <td>1.799664e+00</td>\n      <td>2.693171e+00</td>\n      <td>2.337594e+00</td>\n      <td>4.907421e+00</td>\n      <td>1.000000</td>\n    </tr>\n  </tbody>\n</table>\n</div>"
     },
     "execution_count": 8,
     "metadata": {},
     "output_type": "execute_result"
    }
   ],
   "source": [
    "from si.data import StandardScaler\n",
    "sc = StandardScaler()\n",
    "ds2 = sc.fit_transform(dataset)\n",
    "summary(ds2)"
   ]
  },
  {
   "cell_type": "markdown",
   "id": "b181d714",
   "metadata": {},
   "source": [
    "# Feature Selection"
   ]
  },
  {
   "cell_type": "code",
   "execution_count": 9,
   "id": "fe5a0ddb",
   "metadata": {},
   "outputs": [],
   "source": [
    "from si.data.feature_selection import f_regress, SelectKBest, VarianceThreshold"
   ]
  },
  {
   "cell_type": "markdown",
   "id": "e2283f25",
   "metadata": {},
   "source": [
    "## Variance Threshold"
   ]
  },
  {
   "cell_type": "code",
   "execution_count": 10,
   "id": "077b82dd",
   "metadata": {},
   "outputs": [
    {
     "data": {
      "text/plain": "              B          C          D          F          H         y\nmean   3.134478   3.207439   2.806867   3.486409   2.866953  0.344778\nvar    9.298082   8.819630   8.141527  13.099601   9.311340  0.225906\nmin    1.000000   1.000000   1.000000   1.000000   1.000000  0.000000\nmax   10.000000  10.000000  10.000000  10.000000  10.000000  1.000000",
      "text/html": "<div>\n<style scoped>\n    .dataframe tbody tr th:only-of-type {\n        vertical-align: middle;\n    }\n\n    .dataframe tbody tr th {\n        vertical-align: top;\n    }\n\n    .dataframe thead th {\n        text-align: right;\n    }\n</style>\n<table border=\"1\" class=\"dataframe\">\n  <thead>\n    <tr style=\"text-align: right;\">\n      <th></th>\n      <th>B</th>\n      <th>C</th>\n      <th>D</th>\n      <th>F</th>\n      <th>H</th>\n      <th>y</th>\n    </tr>\n  </thead>\n  <tbody>\n    <tr>\n      <th>mean</th>\n      <td>3.134478</td>\n      <td>3.207439</td>\n      <td>2.806867</td>\n      <td>3.486409</td>\n      <td>2.866953</td>\n      <td>0.344778</td>\n    </tr>\n    <tr>\n      <th>var</th>\n      <td>9.298082</td>\n      <td>8.819630</td>\n      <td>8.141527</td>\n      <td>13.099601</td>\n      <td>9.311340</td>\n      <td>0.225906</td>\n    </tr>\n    <tr>\n      <th>min</th>\n      <td>1.000000</td>\n      <td>1.000000</td>\n      <td>1.000000</td>\n      <td>1.000000</td>\n      <td>1.000000</td>\n      <td>0.000000</td>\n    </tr>\n    <tr>\n      <th>max</th>\n      <td>10.000000</td>\n      <td>10.000000</td>\n      <td>10.000000</td>\n      <td>10.000000</td>\n      <td>10.000000</td>\n      <td>1.000000</td>\n    </tr>\n  </tbody>\n</table>\n</div>"
     },
     "execution_count": 10,
     "metadata": {},
     "output_type": "execute_result"
    }
   ],
   "source": [
    "vt = VarianceThreshold(8)\n",
    "ds2 = vt.fit_transform(dataset)\n",
    "summary(ds2)"
   ]
  },
  {
   "cell_type": "markdown",
   "id": "af2a1979",
   "metadata": {},
   "source": [
    "## SelectKBest"
   ]
  },
  {
   "cell_type": "code",
   "execution_count": 11,
   "id": "3d5a323c",
   "metadata": {},
   "outputs": [
    {
     "data": {
      "text/plain": "              A          B          C          F          G         y\nmean   4.417740   3.134478   3.207439   3.486409   3.437768  0.344778\nvar    7.917053   9.298082   8.819630  13.099601   5.937114  0.225906\nmin    1.000000   1.000000   1.000000   1.000000   1.000000  0.000000\nmax   10.000000  10.000000  10.000000  10.000000  10.000000  1.000000",
      "text/html": "<div>\n<style scoped>\n    .dataframe tbody tr th:only-of-type {\n        vertical-align: middle;\n    }\n\n    .dataframe tbody tr th {\n        vertical-align: top;\n    }\n\n    .dataframe thead th {\n        text-align: right;\n    }\n</style>\n<table border=\"1\" class=\"dataframe\">\n  <thead>\n    <tr style=\"text-align: right;\">\n      <th></th>\n      <th>A</th>\n      <th>B</th>\n      <th>C</th>\n      <th>F</th>\n      <th>G</th>\n      <th>y</th>\n    </tr>\n  </thead>\n  <tbody>\n    <tr>\n      <th>mean</th>\n      <td>4.417740</td>\n      <td>3.134478</td>\n      <td>3.207439</td>\n      <td>3.486409</td>\n      <td>3.437768</td>\n      <td>0.344778</td>\n    </tr>\n    <tr>\n      <th>var</th>\n      <td>7.917053</td>\n      <td>9.298082</td>\n      <td>8.819630</td>\n      <td>13.099601</td>\n      <td>5.937114</td>\n      <td>0.225906</td>\n    </tr>\n    <tr>\n      <th>min</th>\n      <td>1.000000</td>\n      <td>1.000000</td>\n      <td>1.000000</td>\n      <td>1.000000</td>\n      <td>1.000000</td>\n      <td>0.000000</td>\n    </tr>\n    <tr>\n      <th>max</th>\n      <td>10.000000</td>\n      <td>10.000000</td>\n      <td>10.000000</td>\n      <td>10.000000</td>\n      <td>10.000000</td>\n      <td>1.000000</td>\n    </tr>\n  </tbody>\n</table>\n</div>"
     },
     "execution_count": 11,
     "metadata": {},
     "output_type": "execute_result"
    }
   ],
   "source": [
    "# SelectKBest for classification\n",
    "skb = SelectKBest(5)\n",
    "ds3 = skb.fit_transform(dataset)\n",
    "summary(ds3)\n"
   ]
  },
  {
   "cell_type": "markdown",
   "id": "d32dff4c",
   "metadata": {},
   "source": [
    "# Clustering"
   ]
  },
  {
   "cell_type": "code",
   "execution_count": 12,
   "id": "a9562ff0",
   "metadata": {},
   "outputs": [],
   "source": [
    "from si.unsupervised import KMeans\n",
    "import pandas as pd\n",
    "import matplotlib.pyplot as plt"
   ]
  },
  {
   "cell_type": "code",
   "execution_count": 13,
   "id": "20a110be",
   "metadata": {},
   "outputs": [],
   "source": [
    "# o dataset iris nao estava inicialmente no github\n",
    "filename = os.path.join(DIR, 'datasets/iris.data')\n",
    "df = pd.read_csv(filename)\n",
    "iris = Dataset.from_dataframe(df,ylabel=\"class\")"
   ]
  },
  {
   "cell_type": "code",
   "execution_count": 14,
   "id": "a8538bcd",
   "metadata": {},
   "outputs": [
    {
     "data": {
      "text/plain": "<Figure size 432x288 with 1 Axes>",
      "image/png": "[encoded data removed]"
     },
     "metadata": {
      "needs_background": "light"
     },
     "output_type": "display_data"
    }
   ],
   "source": [
    "# indice das features para o plot\n",
    "c1 = 0\n",
    "c2 = 1\n",
    "# plot\n",
    "plt.scatter(iris.X[:,c1], iris.X[:,c2])\n",
    "plt.xlabel(iris._xnames[c1])\n",
    "plt.ylabel(iris._xnames[c2])\n",
    "plt.show()"
   ]
  },
  {
   "cell_type": "code",
   "execution_count": 15,
   "id": "3a83563a",
   "metadata": {},
   "outputs": [
    {
     "name": "stderr",
     "output_type": "stream",
     "text": [
      "C:\\Users\\inestm\\anaconda3\\lib\\site-packages\\numpy\\core\\fromnumeric.py:3419: RuntimeWarning: Mean of empty slice.\n",
      "  return _methods._mean(a, axis=axis, dtype=dtype,\n",
      "C:\\Users\\inestm\\anaconda3\\lib\\site-packages\\numpy\\core\\_methods.py:180: RuntimeWarning: invalid value encountered in true_divide\n",
      "  ret = um.true_divide(\n"
     ]
    }
   ],
   "source": [
    "kmeans = KMeans(3)\n",
    "cent, clust = kmeans.fit_transform(iris)"
   ]
  },
  {
   "cell_type": "code",
   "execution_count": 16,
   "id": "4a9cc736",
   "metadata": {},
   "outputs": [
    {
     "data": {
      "text/plain": "<Figure size 432x288 with 1 Axes>",
      "image/png": "[encoded data removed]"
     },
     "metadata": {
      "needs_background": "light"
     },
     "output_type": "display_data"
    }
   ],
   "source": [
    "\n",
    "plt.scatter(iris.X[:,c1], iris.X[:,c2],c=clust)\n",
    "plt.scatter(cent[:,c1],cent[:,c2], s = 100, c = 'black',marker='x')\n",
    "plt.xlabel(iris._xnames[c1])\n",
    "plt.ylabel(iris._xnames[c2])\n",
    "plt.show()\n",
    "#\n",
    "# /!\\\n",
    "# podem obter clusterings diferentes já que estes dependem da escolha dos centroids iniciais"
   ]
  },
  {
   "cell_type": "markdown",
   "id": "2d9f986e",
   "metadata": {},
   "source": [
    "# PCA"
   ]
  },
  {
   "cell_type": "code",
   "execution_count": 17,
   "id": "36ccdbee",
   "metadata": {},
   "outputs": [],
   "source": [
    "from si.unsupervised import PCA\n",
    "pca = PCA(2, scale=True)"
   ]
  },
  {
   "cell_type": "code",
   "execution_count": 18,
   "id": "5973a1a1",
   "metadata": {},
   "outputs": [
    {
     "name": "stdout",
     "output_type": "stream",
     "text": [
      "[53.42728504910812, 30.05643530541549, 12.020858216255064, 4.495421429221336]\n"
     ]
    }
   ],
   "source": [
    "reduced = pca.fit_transform(iris)\n",
    "print(pca.variance_explained())"
   ]
  },
  {
   "cell_type": "code",
   "execution_count": 19,
   "id": "165737a0",
   "metadata": {},
   "outputs": [
    {
     "data": {
      "text/plain": "          pc1       pc2           class\n0    2.264542 -0.505704     Iris-setosa\n1    2.086426  0.655405     Iris-setosa\n2     2.36795  0.318477     Iris-setosa\n3    2.304197  0.575368     Iris-setosa\n4    2.388777 -0.674767     Iris-setosa\n..        ...       ...             ...\n145 -1.870522 -0.382822  Iris-virginica\n146 -1.558492  0.905314  Iris-virginica\n147 -1.520845 -0.266795  Iris-virginica\n148 -1.376391 -1.016362  Iris-virginica\n149 -0.959299  0.022284  Iris-virginica\n\n[150 rows x 3 columns]",
      "text/html": "<div>\n<style scoped>\n    .dataframe tbody tr th:only-of-type {\n        vertical-align: middle;\n    }\n\n    .dataframe tbody tr th {\n        vertical-align: top;\n    }\n\n    .dataframe thead th {\n        text-align: right;\n    }\n</style>\n<table border=\"1\" class=\"dataframe\">\n  <thead>\n    <tr style=\"text-align: right;\">\n      <th></th>\n      <th>pc1</th>\n      <th>pc2</th>\n      <th>class</th>\n    </tr>\n  </thead>\n  <tbody>\n    <tr>\n      <th>0</th>\n      <td>2.264542</td>\n      <td>-0.505704</td>\n      <td>Iris-setosa</td>\n    </tr>\n    <tr>\n      <th>1</th>\n      <td>2.086426</td>\n      <td>0.655405</td>\n      <td>Iris-setosa</td>\n    </tr>\n    <tr>\n      <th>2</th>\n      <td>2.36795</td>\n      <td>0.318477</td>\n      <td>Iris-setosa</td>\n    </tr>\n    <tr>\n      <th>3</th>\n      <td>2.304197</td>\n      <td>0.575368</td>\n      <td>Iris-setosa</td>\n    </tr>\n    <tr>\n      <th>4</th>\n      <td>2.388777</td>\n      <td>-0.674767</td>\n      <td>Iris-setosa</td>\n    </tr>\n    <tr>\n      <th>...</th>\n      <td>...</td>\n      <td>...</td>\n      <td>...</td>\n    </tr>\n    <tr>\n      <th>145</th>\n      <td>-1.870522</td>\n      <td>-0.382822</td>\n      <td>Iris-virginica</td>\n    </tr>\n    <tr>\n      <th>146</th>\n      <td>-1.558492</td>\n      <td>0.905314</td>\n      <td>Iris-virginica</td>\n    </tr>\n    <tr>\n      <th>147</th>\n      <td>-1.520845</td>\n      <td>-0.266795</td>\n      <td>Iris-virginica</td>\n    </tr>\n    <tr>\n      <th>148</th>\n      <td>-1.376391</td>\n      <td>-1.016362</td>\n      <td>Iris-virginica</td>\n    </tr>\n    <tr>\n      <th>149</th>\n      <td>-0.959299</td>\n      <td>0.022284</td>\n      <td>Iris-virginica</td>\n    </tr>\n  </tbody>\n</table>\n<p>150 rows × 3 columns</p>\n</div>"
     },
     "execution_count": 19,
     "metadata": {},
     "output_type": "execute_result"
    }
   ],
   "source": [
    "iris_pca = Dataset(reduced,iris.y,xnames=['pc1','pc2'],yname='class')\n",
    "iris_pca.toDataframe()"
   ]
  },
  {
   "cell_type": "code",
   "execution_count": 20,
   "id": "7ca96668",
   "metadata": {},
   "outputs": [
    {
     "data": {
      "text/plain": "<Figure size 432x288 with 1 Axes>",
      "image/png": "[encoded data removed]"
     },
     "metadata": {
      "needs_background": "light"
     },
     "output_type": "display_data"
    }
   ],
   "source": [
    "plt.scatter(iris_pca.X[:,0], iris_pca.X[:,1])\n",
    "plt.xlabel(\"PC1\")\n",
    "plt.ylabel(\"PC2\")\n",
    "plt.show()"
   ]
  },
  {
   "cell_type": "markdown",
   "id": "725aeacd",
   "metadata": {},
   "source": [
    "## KNN"
   ]
  },
  {
   "cell_type": "code",
   "execution_count": 21,
   "id": "73caee8a",
   "metadata": {},
   "outputs": [],
   "source": [
    "from si.supervised import KNN"
   ]
  },
  {
   "cell_type": "code",
   "execution_count": 22,
   "id": "df6695c6",
   "metadata": {},
   "outputs": [],
   "source": [
    "knn = KNN(1)"
   ]
  },
  {
   "cell_type": "code",
   "execution_count": 23,
   "id": "7440a909",
   "metadata": {},
   "outputs": [],
   "source": [
    "knn.fit(iris)"
   ]
  },
  {
   "cell_type": "code",
   "execution_count": 24,
   "id": "601157fc",
   "metadata": {},
   "outputs": [
    {
     "name": "stdout",
     "output_type": "stream",
     "text": [
      "Prediction: Iris-versicolor\n",
      "True value: Iris-versicolor\n"
     ]
    }
   ],
   "source": [
    "# the index of a dataset entry\n",
    "idx = 50\n",
    "\n",
    "# prediction\n",
    "x = iris.X[idx,:]\n",
    "\n",
    "pred = knn.predict(x)\n",
    "print('Prediction:',pred)\n",
    "print('True value:',iris.y[idx])"
   ]
  },
  {
   "cell_type": "code",
   "execution_count": 25,
   "id": "2291473c",
   "metadata": {},
   "outputs": [
    {
     "name": "stdout",
     "output_type": "stream",
     "text": [
      "1.0\n"
     ]
    }
   ],
   "source": [
    "print(knn.cost())"
   ]
  },
  {
   "cell_type": "code",
   "execution_count": 26,
   "id": "aa66c207",
   "metadata": {},
   "outputs": [],
   "source": [
    "from si.util import train_test_split"
   ]
  },
  {
   "cell_type": "code",
   "execution_count": 27,
   "id": "8dd0974e",
   "metadata": {},
   "outputs": [
    {
     "name": "stdout",
     "output_type": "stream",
     "text": [
      "(120, 4)\n",
      "(30, 4)\n"
     ]
    }
   ],
   "source": [
    "train, test = train_test_split(iris)\n",
    "print(train.X.shape)\n",
    "print(test.X.shape)"
   ]
  },
  {
   "cell_type": "code",
   "execution_count": 28,
   "id": "673b9428",
   "metadata": {},
   "outputs": [
    {
     "data": {
      "text/plain": "      sepal_length  sepal_width  petal_length  petal_width  class\nmean      5.832500     3.050833      3.766667     1.207500    NaN\nvar       0.689194     0.172499      3.161556     0.583527    NaN\nmin       4.300000     2.000000      1.000000     0.100000    NaN\nmax       7.900000     4.200000      6.700000     2.500000    NaN",
      "text/html": "<div>\n<style scoped>\n    .dataframe tbody tr th:only-of-type {\n        vertical-align: middle;\n    }\n\n    .dataframe tbody tr th {\n        vertical-align: top;\n    }\n\n    .dataframe thead th {\n        text-align: right;\n    }\n</style>\n<table border=\"1\" class=\"dataframe\">\n  <thead>\n    <tr style=\"text-align: right;\">\n      <th></th>\n      <th>sepal_length</th>\n      <th>sepal_width</th>\n      <th>petal_length</th>\n      <th>petal_width</th>\n      <th>class</th>\n    </tr>\n  </thead>\n  <tbody>\n    <tr>\n      <th>mean</th>\n      <td>5.832500</td>\n      <td>3.050833</td>\n      <td>3.766667</td>\n      <td>1.207500</td>\n      <td>NaN</td>\n    </tr>\n    <tr>\n      <th>var</th>\n      <td>0.689194</td>\n      <td>0.172499</td>\n      <td>3.161556</td>\n      <td>0.583527</td>\n      <td>NaN</td>\n    </tr>\n    <tr>\n      <th>min</th>\n      <td>4.300000</td>\n      <td>2.000000</td>\n      <td>1.000000</td>\n      <td>0.100000</td>\n      <td>NaN</td>\n    </tr>\n    <tr>\n      <th>max</th>\n      <td>7.900000</td>\n      <td>4.200000</td>\n      <td>6.700000</td>\n      <td>2.500000</td>\n      <td>NaN</td>\n    </tr>\n  </tbody>\n</table>\n</div>"
     },
     "execution_count": 28,
     "metadata": {},
     "output_type": "execute_result"
    }
   ],
   "source": [
    "summary(train)"
   ]
  },
  {
   "cell_type": "code",
   "execution_count": 29,
   "id": "7f5b55b9",
   "metadata": {},
   "outputs": [
    {
     "data": {
      "text/plain": "      sepal_length  sepal_width  petal_length  petal_width  class\nmean      5.886667     3.066667      3.726667     1.163333    NaN\nvar       0.646489     0.243556      2.814622     0.556989    NaN\nmin       4.600000     2.200000      1.400000     0.100000    NaN\nmax       7.700000     4.400000      6.900000     2.300000    NaN",
      "text/html": "<div>\n<style scoped>\n    .dataframe tbody tr th:only-of-type {\n        vertical-align: middle;\n    }\n\n    .dataframe tbody tr th {\n        vertical-align: top;\n    }\n\n    .dataframe thead th {\n        text-align: right;\n    }\n</style>\n<table border=\"1\" class=\"dataframe\">\n  <thead>\n    <tr style=\"text-align: right;\">\n      <th></th>\n      <th>sepal_length</th>\n      <th>sepal_width</th>\n      <th>petal_length</th>\n      <th>petal_width</th>\n      <th>class</th>\n    </tr>\n  </thead>\n  <tbody>\n    <tr>\n      <th>mean</th>\n      <td>5.886667</td>\n      <td>3.066667</td>\n      <td>3.726667</td>\n      <td>1.163333</td>\n      <td>NaN</td>\n    </tr>\n    <tr>\n      <th>var</th>\n      <td>0.646489</td>\n      <td>0.243556</td>\n      <td>2.814622</td>\n      <td>0.556989</td>\n      <td>NaN</td>\n    </tr>\n    <tr>\n      <th>min</th>\n      <td>4.600000</td>\n      <td>2.200000</td>\n      <td>1.400000</td>\n      <td>0.100000</td>\n      <td>NaN</td>\n    </tr>\n    <tr>\n      <th>max</th>\n      <td>7.700000</td>\n      <td>4.400000</td>\n      <td>6.900000</td>\n      <td>2.300000</td>\n      <td>NaN</td>\n    </tr>\n  </tbody>\n</table>\n</div>"
     },
     "execution_count": 29,
     "metadata": {},
     "output_type": "execute_result"
    }
   ],
   "source": [
    "summary(test)"
   ]
  },
  {
   "cell_type": "markdown",
   "id": "249e4518",
   "metadata": {
    "pycharm": {
     "name": "#%% md\n"
    }
   },
   "source": [
    "# Naive Bayes"
   ]
  },
  {
   "cell_type": "code",
   "execution_count": 30,
   "outputs": [],
   "source": [
    "from si.supervised import CategoricalNB"
   ],
   "metadata": {
    "collapsed": false,
    "pycharm": {
     "name": "#%%\n"
    }
   }
  },
  {
   "cell_type": "code",
   "execution_count": 31,
   "outputs": [
    {
     "name": "stdout",
     "output_type": "stream",
     "text": [
      "Naive Bayes Accuracy:  0.0\n"
     ]
    },
    {
     "name": "stderr",
     "output_type": "stream",
     "text": [
      "C:\\Users\\inestm\\anaconda3\\lib\\site-packages\\numpy\\core\\fromnumeric.py:3419: RuntimeWarning: Mean of empty slice.\n",
      "  return _methods._mean(a, axis=axis, dtype=dtype,\n",
      "C:\\Users\\inestm\\anaconda3\\lib\\site-packages\\numpy\\core\\_methods.py:180: RuntimeWarning: invalid value encountered in true_divide\n",
      "  ret = um.true_divide(\n",
      "C:\\Users\\inestm\\anaconda3\\lib\\site-packages\\numpy\\core\\fromnumeric.py:3702: RuntimeWarning: Degrees of freedom <= 0 for slice\n",
      "  return _methods._var(a, axis=axis, dtype=dtype, out=out, ddof=ddof,\n",
      "C:\\Users\\inestm\\anaconda3\\lib\\site-packages\\numpy\\core\\_methods.py:221: RuntimeWarning: invalid value encountered in true_divide\n",
      "  arrmean = um.true_divide(arrmean, div, out=arrmean, casting='unsafe',\n",
      "C:\\Users\\inestm\\anaconda3\\lib\\site-packages\\numpy\\core\\_methods.py:250: RuntimeWarning: invalid value encountered in true_divide\n",
      "  ret = um.true_divide(\n",
      "C:\\Users\\inestm\\Desktop\\si\\src\\si\\supervised\\nb.py:77: RuntimeWarning: divide by zero encountered in log\n",
      "  prior = np.log(self.priors[c]) #frequência/probabilidade anterior/ calculada da classe c\n"
     ]
    }
   ],
   "source": [
    "nb = CategoricalNB()\n",
    "nb.fit(train.X, train.y)\n",
    "predictions = nb.predict(test.X)\n",
    "\n",
    "print('Naive Bayes Accuracy: ', nb.cost(test.y, predictions))"
   ],
   "metadata": {
    "collapsed": false,
    "pycharm": {
     "name": "#%%\n"
    }
   }
  },
  {
   "cell_type": "code",
   "execution_count": 33,
   "outputs": [],
   "source": [
    "from si.util.metrics import confusion_matrix"
   ],
   "metadata": {
    "collapsed": false,
    "pycharm": {
     "name": "#%%\n"
    }
   }
  },
  {
   "cell_type": "code",
   "execution_count": 34,
   "outputs": [
    {
     "name": "stdout",
     "output_type": "stream",
     "text": [
      "Naive Bayes confusion matrix:  previsto          0  All\n",
      "desejado                \n",
      "Iris-setosa      10   10\n",
      "Iris-versicolor  14   14\n",
      "Iris-virginica    6    6\n",
      "All              30   30\n"
     ]
    }
   ],
   "source": [
    "print('Naive Bayes confusion matrix: ', confusion_matrix(test.y, predictions))"
   ],
   "metadata": {
    "collapsed": false,
    "pycharm": {
     "name": "#%%\n"
    }
   }
  }
 ],
 "metadata": {
  "kernelspec": {
   "display_name": "Python 3",
   "language": "python",
   "name": "python3"
  },
  "language_info": {
   "codemirror_mode": {
    "name": "ipython",
    "version": 3
   },
   "file_extension": ".py",
   "mimetype": "text/x-python",
   "name": "python",
   "nbconvert_exporter": "python",
   "pygments_lexer": "ipython3",
   "version": "3.8.8"
  }
 },
 "nbformat": 4,
 "nbformat_minor": 5
}